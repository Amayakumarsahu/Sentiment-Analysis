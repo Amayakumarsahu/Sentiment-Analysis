{
 "cells": [
  {
   "cell_type": "code",
   "execution_count": 2,
   "id": "c7997bfb",
   "metadata": {},
   "outputs": [],
   "source": [
    "import pandas as pd\n",
    "import numpy as np\n",
    "import matplotlib.pyplot as plt\n",
    "import seaborn as sns"
   ]
  },
  {
   "cell_type": "code",
   "execution_count": 3,
   "id": "8ff7a184",
   "metadata": {},
   "outputs": [
    {
     "data": {
      "text/html": [
       "<div>\n",
       "<style scoped>\n",
       "    .dataframe tbody tr th:only-of-type {\n",
       "        vertical-align: middle;\n",
       "    }\n",
       "\n",
       "    .dataframe tbody tr th {\n",
       "        vertical-align: top;\n",
       "    }\n",
       "\n",
       "    .dataframe thead th {\n",
       "        text-align: right;\n",
       "    }\n",
       "</style>\n",
       "<table border=\"1\" class=\"dataframe\">\n",
       "  <thead>\n",
       "    <tr style=\"text-align: right;\">\n",
       "      <th></th>\n",
       "      <th>overall</th>\n",
       "      <th>vote</th>\n",
       "      <th>verified</th>\n",
       "      <th>reviewTime</th>\n",
       "      <th>reviewerID</th>\n",
       "      <th>asin</th>\n",
       "      <th>style</th>\n",
       "      <th>reviewerName</th>\n",
       "      <th>reviewText</th>\n",
       "      <th>summary</th>\n",
       "      <th>unixReviewTime</th>\n",
       "      <th>image</th>\n",
       "    </tr>\n",
       "  </thead>\n",
       "  <tbody>\n",
       "    <tr>\n",
       "      <th>0</th>\n",
       "      <td>5.0</td>\n",
       "      <td>67.0</td>\n",
       "      <td>True</td>\n",
       "      <td>09 18, 1999</td>\n",
       "      <td>AAP7PPBU72QFM</td>\n",
       "      <td>0151004714</td>\n",
       "      <td>{'Format:': ' Hardcover'}</td>\n",
       "      <td>D. C. Carrad</td>\n",
       "      <td>This is the best novel I have read in 2 or 3 y...</td>\n",
       "      <td>A star is born</td>\n",
       "      <td>937612800</td>\n",
       "      <td>NaN</td>\n",
       "    </tr>\n",
       "    <tr>\n",
       "      <th>1</th>\n",
       "      <td>3.0</td>\n",
       "      <td>5.0</td>\n",
       "      <td>True</td>\n",
       "      <td>10 23, 2013</td>\n",
       "      <td>A2E168DTVGE6SV</td>\n",
       "      <td>0151004714</td>\n",
       "      <td>{'Format:': ' Kindle Edition'}</td>\n",
       "      <td>Evy</td>\n",
       "      <td>Pages and pages of introspection, in the style...</td>\n",
       "      <td>A stream of consciousness novel</td>\n",
       "      <td>1382486400</td>\n",
       "      <td>NaN</td>\n",
       "    </tr>\n",
       "    <tr>\n",
       "      <th>2</th>\n",
       "      <td>5.0</td>\n",
       "      <td>4.0</td>\n",
       "      <td>False</td>\n",
       "      <td>09 2, 2008</td>\n",
       "      <td>A1ER5AYS3FQ9O3</td>\n",
       "      <td>0151004714</td>\n",
       "      <td>{'Format:': ' Paperback'}</td>\n",
       "      <td>Kcorn</td>\n",
       "      <td>This is the kind of novel to read when you hav...</td>\n",
       "      <td>I'm a huge fan of the author and this one did ...</td>\n",
       "      <td>1220313600</td>\n",
       "      <td>NaN</td>\n",
       "    </tr>\n",
       "    <tr>\n",
       "      <th>3</th>\n",
       "      <td>5.0</td>\n",
       "      <td>13.0</td>\n",
       "      <td>False</td>\n",
       "      <td>09 4, 2000</td>\n",
       "      <td>A1T17LMQABMBN5</td>\n",
       "      <td>0151004714</td>\n",
       "      <td>{'Format:': ' Hardcover'}</td>\n",
       "      <td>Caf Girl Writes</td>\n",
       "      <td>What gorgeous language! What an incredible wri...</td>\n",
       "      <td>The most beautiful book I have ever read!</td>\n",
       "      <td>968025600</td>\n",
       "      <td>NaN</td>\n",
       "    </tr>\n",
       "    <tr>\n",
       "      <th>4</th>\n",
       "      <td>3.0</td>\n",
       "      <td>8.0</td>\n",
       "      <td>True</td>\n",
       "      <td>02 4, 2000</td>\n",
       "      <td>A3QHJ0FXK33OBE</td>\n",
       "      <td>0151004714</td>\n",
       "      <td>{'Format:': ' Hardcover'}</td>\n",
       "      <td>W. Shane Schmidt</td>\n",
       "      <td>I was taken in by reviews that compared this b...</td>\n",
       "      <td>A dissenting view--In part.</td>\n",
       "      <td>949622400</td>\n",
       "      <td>NaN</td>\n",
       "    </tr>\n",
       "  </tbody>\n",
       "</table>\n",
       "</div>"
      ],
      "text/plain": [
       "   overall  vote  verified   reviewTime      reviewerID        asin  \\\n",
       "0      5.0  67.0      True  09 18, 1999   AAP7PPBU72QFM  0151004714   \n",
       "1      3.0   5.0      True  10 23, 2013  A2E168DTVGE6SV  0151004714   \n",
       "2      5.0   4.0     False   09 2, 2008  A1ER5AYS3FQ9O3  0151004714   \n",
       "3      5.0  13.0     False   09 4, 2000  A1T17LMQABMBN5  0151004714   \n",
       "4      3.0   8.0      True   02 4, 2000  A3QHJ0FXK33OBE  0151004714   \n",
       "\n",
       "                            style      reviewerName  \\\n",
       "0       {'Format:': ' Hardcover'}      D. C. Carrad   \n",
       "1  {'Format:': ' Kindle Edition'}               Evy   \n",
       "2       {'Format:': ' Paperback'}             Kcorn   \n",
       "3       {'Format:': ' Hardcover'}   Caf Girl Writes   \n",
       "4       {'Format:': ' Hardcover'}  W. Shane Schmidt   \n",
       "\n",
       "                                          reviewText  \\\n",
       "0  This is the best novel I have read in 2 or 3 y...   \n",
       "1  Pages and pages of introspection, in the style...   \n",
       "2  This is the kind of novel to read when you hav...   \n",
       "3  What gorgeous language! What an incredible wri...   \n",
       "4  I was taken in by reviews that compared this b...   \n",
       "\n",
       "                                             summary  unixReviewTime image  \n",
       "0                                     A star is born       937612800   NaN  \n",
       "1                    A stream of consciousness novel      1382486400   NaN  \n",
       "2  I'm a huge fan of the author and this one did ...      1220313600   NaN  \n",
       "3          The most beautiful book I have ever read!       968025600   NaN  \n",
       "4                        A dissenting view--In part.       949622400   NaN  "
      ]
     },
     "execution_count": 3,
     "metadata": {},
     "output_type": "execute_result"
    }
   ],
   "source": [
    "df = pd.read_csv(\"amazon_reviews.csv\")\n",
    "df.head(5)"
   ]
  },
  {
   "cell_type": "code",
   "execution_count": 4,
   "id": "a33e90a1",
   "metadata": {},
   "outputs": [
    {
     "data": {
      "text/plain": [
       "Index(['overall', 'vote', 'verified', 'reviewTime', 'reviewerID', 'asin',\n",
       "       'style', 'reviewerName', 'reviewText', 'summary', 'unixReviewTime',\n",
       "       'image'],\n",
       "      dtype='object')"
      ]
     },
     "execution_count": 4,
     "metadata": {},
     "output_type": "execute_result"
    }
   ],
   "source": [
    "df.columns"
   ]
  },
  {
   "cell_type": "code",
   "execution_count": 5,
   "id": "3bc135f8",
   "metadata": {},
   "outputs": [
    {
     "data": {
      "text/plain": [
       "overall              0\n",
       "vote              8351\n",
       "verified             0\n",
       "reviewTime           0\n",
       "reviewerID           0\n",
       "asin                 0\n",
       "style             5786\n",
       "reviewerName         2\n",
       "reviewText           2\n",
       "summary              0\n",
       "unixReviewTime       0\n",
       "image             9958\n",
       "dtype: int64"
      ]
     },
     "execution_count": 5,
     "metadata": {},
     "output_type": "execute_result"
    }
   ],
   "source": [
    "df.isnull().sum()"
   ]
  },
  {
   "cell_type": "code",
   "execution_count": 6,
   "id": "d26be970",
   "metadata": {},
   "outputs": [
    {
     "data": {
      "text/html": [
       "<div>\n",
       "<style scoped>\n",
       "    .dataframe tbody tr th:only-of-type {\n",
       "        vertical-align: middle;\n",
       "    }\n",
       "\n",
       "    .dataframe tbody tr th {\n",
       "        vertical-align: top;\n",
       "    }\n",
       "\n",
       "    .dataframe thead th {\n",
       "        text-align: right;\n",
       "    }\n",
       "</style>\n",
       "<table border=\"1\" class=\"dataframe\">\n",
       "  <thead>\n",
       "    <tr style=\"text-align: right;\">\n",
       "      <th></th>\n",
       "      <th>overall</th>\n",
       "      <th>reviewText</th>\n",
       "    </tr>\n",
       "  </thead>\n",
       "  <tbody>\n",
       "    <tr>\n",
       "      <th>0</th>\n",
       "      <td>5.0</td>\n",
       "      <td>This is the best novel I have read in 2 or 3 y...</td>\n",
       "    </tr>\n",
       "    <tr>\n",
       "      <th>1</th>\n",
       "      <td>3.0</td>\n",
       "      <td>Pages and pages of introspection, in the style...</td>\n",
       "    </tr>\n",
       "    <tr>\n",
       "      <th>2</th>\n",
       "      <td>5.0</td>\n",
       "      <td>This is the kind of novel to read when you hav...</td>\n",
       "    </tr>\n",
       "    <tr>\n",
       "      <th>3</th>\n",
       "      <td>5.0</td>\n",
       "      <td>What gorgeous language! What an incredible wri...</td>\n",
       "    </tr>\n",
       "    <tr>\n",
       "      <th>4</th>\n",
       "      <td>3.0</td>\n",
       "      <td>I was taken in by reviews that compared this b...</td>\n",
       "    </tr>\n",
       "  </tbody>\n",
       "</table>\n",
       "</div>"
      ],
      "text/plain": [
       "   overall                                         reviewText\n",
       "0      5.0  This is the best novel I have read in 2 or 3 y...\n",
       "1      3.0  Pages and pages of introspection, in the style...\n",
       "2      5.0  This is the kind of novel to read when you hav...\n",
       "3      5.0  What gorgeous language! What an incredible wri...\n",
       "4      3.0  I was taken in by reviews that compared this b..."
      ]
     },
     "execution_count": 6,
     "metadata": {},
     "output_type": "execute_result"
    }
   ],
   "source": [
    "df.drop(columns=['vote', 'verified', 'reviewTime', 'reviewerID', 'asin','style', 'reviewerName','unixReviewTime',\n",
    "       'image','summary'], inplace= True)\n",
    "df.head(5)"
   ]
  },
  {
   "cell_type": "code",
   "execution_count": 7,
   "id": "ce0c9fc0",
   "metadata": {},
   "outputs": [
    {
     "data": {
      "text/plain": [
       "overall       0\n",
       "reviewText    2\n",
       "dtype: int64"
      ]
     },
     "execution_count": 7,
     "metadata": {},
     "output_type": "execute_result"
    }
   ],
   "source": [
    "df.isnull().sum()"
   ]
  },
  {
   "cell_type": "code",
   "execution_count": 8,
   "id": "18a21d60",
   "metadata": {},
   "outputs": [],
   "source": [
    "df.dropna(subset=['reviewText'], inplace=True)\n"
   ]
  },
  {
   "cell_type": "code",
   "execution_count": 9,
   "id": "e458cfc0",
   "metadata": {},
   "outputs": [
    {
     "data": {
      "text/plain": [
       "overall       0\n",
       "reviewText    0\n",
       "dtype: int64"
      ]
     },
     "execution_count": 9,
     "metadata": {},
     "output_type": "execute_result"
    }
   ],
   "source": [
    "df.isnull().sum()"
   ]
  },
  {
   "cell_type": "code",
   "execution_count": 10,
   "id": "f033770d",
   "metadata": {},
   "outputs": [
    {
     "name": "stdout",
     "output_type": "stream",
     "text": [
      "Sentiment Distribution:\n",
      "sentiment\n",
      "positive    8129\n",
      "negative    1140\n",
      "neutral      729\n",
      "Name: count, dtype: int64\n"
     ]
    },
    {
     "name": "stderr",
     "output_type": "stream",
     "text": [
      "C:\\Users\\Amaya\\AppData\\Local\\Temp\\ipykernel_12672\\21595974.py:21: FutureWarning: \n",
      "\n",
      "Passing `palette` without assigning `hue` is deprecated and will be removed in v0.14.0. Assign the `x` variable to `hue` and set `legend=False` for the same effect.\n",
      "\n",
      "  sns.countplot(data=df, x='sentiment', palette='Set2')\n"
     ]
    },
    {
     "data": {
      "image/png": "[encoded data removed]",
      "text/plain": [
       "<Figure size 700x500 with 1 Axes>"
      ]
     },
     "metadata": {},
     "output_type": "display_data"
    }
   ],
   "source": [
    "# Create sentiment from overall\n",
    "def rating_to_sentiment(rating):\n",
    "    if rating >= 4:\n",
    "        return 'positive'\n",
    "    elif rating == 3:\n",
    "        return 'neutral'\n",
    "    else:\n",
    "        return 'negative'\n",
    "\n",
    "df['sentiment'] = df['overall'].apply(rating_to_sentiment)\n",
    "\n",
    "# Check class distribution\n",
    "print(\"Sentiment Distribution:\")\n",
    "print(df['sentiment'].value_counts())\n",
    "\n",
    "# Plot\n",
    "import matplotlib.pyplot as plt\n",
    "import seaborn as sns\n",
    "\n",
    "plt.figure(figsize=(7, 5))\n",
    "sns.countplot(data=df, x='sentiment', palette='Set2')\n",
    "plt.title('Sentiment Class Distribution')\n",
    "plt.xlabel('Sentiment')\n",
    "plt.ylabel('Number of Reviews')\n",
    "plt.show()"
   ]
  },
  {
   "cell_type": "code",
   "execution_count": 11,
   "id": "3f085c29",
   "metadata": {},
   "outputs": [
    {
     "data": {
      "text/plain": [
       "0       positive\n",
       "1        neutral\n",
       "2       positive\n",
       "3       positive\n",
       "4        neutral\n",
       "          ...   \n",
       "9995    positive\n",
       "9996     neutral\n",
       "9997    positive\n",
       "9998    positive\n",
       "9999    positive\n",
       "Name: sentiment, Length: 9998, dtype: object"
      ]
     },
     "execution_count": 11,
     "metadata": {},
     "output_type": "execute_result"
    }
   ],
   "source": [
    "df[\"sentiment\"]"
   ]
  },
  {
   "cell_type": "code",
   "execution_count": 12,
   "id": "e9a23257",
   "metadata": {},
   "outputs": [
    {
     "name": "stdout",
     "output_type": "stream",
     "text": [
      "0       this is the best novel i have read in or years...\n",
      "1       pages and pages of introspection in the style ...\n",
      "2       this is the kind of novel to read when you hav...\n",
      "3       what gorgeous language what an incredible writ...\n",
      "4       i was taken in by reviews that compared this b...\n",
      "                              ...                        \n",
      "9995    this tape is great very crisp text and very ea...\n",
      "9996    after i printed a label i had a hard time peel...\n",
      "9997    black on white is the best it is easier to rea...\n",
      "9998    once again amazon has the links to the best pr...\n",
      "9999    the prices for brothers labeling tape on amazo...\n",
      "Name: text, Length: 9998, dtype: object\n"
     ]
    }
   ],
   "source": [
    "import re\n",
    "\n",
    "def clean_text(text):\n",
    "    text = re.sub(r\"http\\S+\", \"\", text)          # Remove URLs\n",
    "    text = re.sub(r\"@\\w+\", \"\", text)             # Remove mentions\n",
    "    text = re.sub(r\"#\\w+\", \"\", text)             # Remove hashtags\n",
    "    text = re.sub(r\"[^A-Za-z\\s]\", \"\", text)      # Remove emojis, numbers, punctuation\n",
    "    text = re.sub(r\"\\s+\", \" \", text).strip()     # Remove extra spaces\n",
    "    return text.lower()\n",
    "\n",
    "df['text'] = df['reviewText'].apply(clean_text)\n",
    "print(df['text'])"
   ]
  },
  {
   "cell_type": "code",
   "execution_count": 13,
   "id": "f94782d9",
   "metadata": {},
   "outputs": [],
   "source": [
    "df.drop(columns=\"reviewText\", inplace=True)"
   ]
  },
  {
   "cell_type": "code",
   "execution_count": 14,
   "id": "a01763a9",
   "metadata": {},
   "outputs": [],
   "source": [
    "feature = df[\"text\"]\n",
    "target = df[\"sentiment\"]"
   ]
  },
  {
   "cell_type": "code",
   "execution_count": 15,
   "id": "ba6ca1b0",
   "metadata": {},
   "outputs": [],
   "source": [
    "from sklearn.model_selection import train_test_split\n",
    "\n",
    "x_train, x_test, y_train, y_test =  train_test_split(feature, target, test_size=0.2, random_state=42, stratify=target)"
   ]
  },
  {
   "cell_type": "code",
   "execution_count": 16,
   "id": "47a7face",
   "metadata": {},
   "outputs": [
    {
     "name": "stdout",
     "output_type": "stream",
     "text": [
      "(7998,)\n",
      "(7998,)\n",
      "(2000,)\n",
      "(2000,)\n"
     ]
    }
   ],
   "source": [
    "print(x_train.shape)\n",
    "print(y_train.shape)\n",
    "print(x_test.shape)\n",
    "print(y_test.shape)"
   ]
  },
  {
   "cell_type": "code",
   "execution_count": 17,
   "id": "a69024c7",
   "metadata": {},
   "outputs": [],
   "source": [
    "from sklearn.feature_extraction.text import TfidfVectorizer\n",
    "\n",
    "vectorizer = TfidfVectorizer(max_features=5000)\n",
    "\n",
    "x_train_tfid = vectorizer.fit_transform(x_train)\n",
    "x_test_tfid = vectorizer.transform(x_test)"
   ]
  },
  {
   "cell_type": "code",
   "execution_count": 18,
   "id": "739400a1",
   "metadata": {},
   "outputs": [
    {
     "name": "stdout",
     "output_type": "stream",
     "text": [
      "(7998, 5000)\n",
      "(2000, 5000)\n"
     ]
    }
   ],
   "source": [
    "print(x_train_tfid.shape)\n",
    "print(x_test_tfid.shape)"
   ]
  },
  {
   "cell_type": "code",
   "execution_count": 36,
   "id": "5c159234",
   "metadata": {},
   "outputs": [],
   "source": [
    "from sklearn.metrics import accuracy_score\n",
    "from sklearn.metrics import classification_report\n",
    "from sklearn.metrics import confusion_matrix"
   ]
  },
  {
   "cell_type": "code",
   "execution_count": 41,
   "id": "c997192c",
   "metadata": {},
   "outputs": [
    {
     "name": "stdout",
     "output_type": "stream",
     "text": [
      "Accuracy Score: 0.7895\n",
      "              precision    recall  f1-score   support\n",
      "\n",
      "    negative       0.57      0.76      0.65       228\n",
      "     neutral       0.22      0.42      0.29       146\n",
      "    positive       0.95      0.83      0.88      1626\n",
      "\n",
      "    accuracy                           0.79      2000\n",
      "   macro avg       0.58      0.67      0.61      2000\n",
      "weighted avg       0.85      0.79      0.81      2000\n",
      "\n",
      "[[ 174   33   21]\n",
      " [  30   61   55]\n",
      " [ 101  181 1344]]\n"
     ]
    }
   ],
   "source": [
    "from sklearn.linear_model import LogisticRegression\n",
    "\n",
    "\n",
    "model_lr = LogisticRegression( class_weight='balanced')\n",
    "model_lr.fit(x_train_tfid,y_train)\n",
    "y_pred = model_lr.predict(x_test_tfid)\n",
    "\n",
    "acc_lr = accuracy_score(y_test, y_pred)\n",
    "c_lr = classification_report(y_test, y_pred)\n",
    "cm = confusion_matrix(y_test, y_pred, labels=model_lr.classes_)\n",
    "\n",
    "print(\"Accuracy Score:\", acc_lr)\n",
    "print(c_lr)\n",
    "print(cm)\n"
   ]
  },
  {
   "cell_type": "code",
   "execution_count": 33,
   "id": "1788c4b7",
   "metadata": {},
   "outputs": [
    {
     "name": "stdout",
     "output_type": "stream",
     "text": [
      "Accuracy Score: 0.9755\n",
      "              precision    recall  f1-score   support\n",
      "\n",
      "    negative       1.00      0.88      0.94       228\n",
      "     neutral       1.00      0.85      0.92       146\n",
      "    positive       0.97      1.00      0.99      1626\n",
      "\n",
      "    accuracy                           0.98      2000\n",
      "   macro avg       0.99      0.91      0.95      2000\n",
      "weighted avg       0.98      0.98      0.97      2000\n",
      "\n"
     ]
    }
   ],
   "source": [
    "from sklearn.ensemble import RandomForestClassifier\n",
    "\n",
    "model_rf = RandomForestClassifier( n_estimators=200, max_depth=20, class_weight='balanced', random_state=42, n_jobs=-1)\n",
    "model_rf.fit(x_test_tfid,y_test)\n",
    "y_pred = model_rf.predict(x_test_tfid)\n",
    "\n",
    "acc_rf = accuracy_score(y_test, y_pred)\n",
    "c_rf = classification_report(y_test,y_pred)\n",
    "\n",
    "print(\"Accuracy Score:\", acc_rf)\n",
    "print(c_rf)"
   ]
  },
  {
   "cell_type": "code",
   "execution_count": 22,
   "id": "f2371284",
   "metadata": {},
   "outputs": [
    {
     "name": "stdout",
     "output_type": "stream",
     "text": [
      "Accuracy Score: 0.749\n",
      "              precision    recall  f1-score   support\n",
      "\n",
      "    negative       0.40      0.43      0.42       228\n",
      "     neutral       0.19      0.26      0.22       146\n",
      "    positive       0.88      0.84      0.86      1626\n",
      "\n",
      "    accuracy                           0.75      2000\n",
      "   macro avg       0.49      0.51      0.50      2000\n",
      "weighted avg       0.77      0.75      0.76      2000\n",
      "\n"
     ]
    }
   ],
   "source": [
    "from sklearn.tree import DecisionTreeClassifier\n",
    "\n",
    "model_dt = DecisionTreeClassifier(class_weight= 'balanced')\n",
    "model_dt.fit(x_train_tfid, y_train)\n",
    "y_pred = model_dt.predict(x_test_tfid)\n",
    "\n",
    "acc_dt = accuracy_score(y_test, y_pred)\n",
    "c_dt = classification_report(y_test, y_pred)\n",
    "\n",
    "print(\"Accuracy Score:\", acc_dt)\n",
    "print(c_dt)"
   ]
  },
  {
   "cell_type": "code",
   "execution_count": 23,
   "id": "c337bea8",
   "metadata": {},
   "outputs": [
    {
     "name": "stdout",
     "output_type": "stream",
     "text": [
      "Accuracy Score: 0.7875\n",
      "              precision    recall  f1-score   support\n",
      "\n",
      "    negative       0.53      0.75      0.62       228\n",
      "     neutral       0.21      0.35      0.26       146\n",
      "    positive       0.94      0.83      0.88      1626\n",
      "\n",
      "    accuracy                           0.79      2000\n",
      "   macro avg       0.56      0.64      0.59      2000\n",
      "weighted avg       0.84      0.79      0.81      2000\n",
      "\n"
     ]
    }
   ],
   "source": [
    "from sklearn.svm import SVC\n",
    "\n",
    "model_svm = SVC(class_weight='balanced', kernel='linear', random_state=42, max_iter=10000)\n",
    "model_svm.fit(x_train_tfid, y_train)\n",
    "y_pred = model_svm.predict(x_test_tfid)\n",
    "\n",
    "acc_svm = accuracy_score(y_test, y_pred)\n",
    "c_svm = classification_report(y_test, y_pred)\n",
    "\n",
    "print(\"Accuracy Score:\", acc_svm)\n",
    "print(c_svm)"
   ]
  },
  {
   "cell_type": "code",
   "execution_count": 24,
   "id": "a01586ac",
   "metadata": {},
   "outputs": [
    {
     "name": "stdout",
     "output_type": "stream",
     "text": [
      "Accuracy Score: 0.842\n",
      "              precision    recall  f1-score   support\n",
      "\n",
      "    negative       0.74      0.32      0.45       228\n",
      "     neutral       0.30      0.02      0.04       146\n",
      "    positive       0.85      0.99      0.91      1626\n",
      "\n",
      "    accuracy                           0.84      2000\n",
      "   macro avg       0.63      0.44      0.47      2000\n",
      "weighted avg       0.80      0.84      0.80      2000\n",
      "\n"
     ]
    }
   ],
   "source": [
    "from sklearn.ensemble import GradientBoostingClassifier\n",
    "\n",
    "model_GBC = GradientBoostingClassifier()\n",
    "model_GBC.fit(x_train_tfid, y_train)\n",
    "y_pred = model_GBC.predict(x_test_tfid)\n",
    "\n",
    "acc_GBC = accuracy_score(y_test, y_pred)\n",
    "c_GBC = classification_report(y_test, y_pred)\n",
    "\n",
    "print(\"Accuracy Score:\", acc_GBC)\n",
    "print(c_GBC)"
   ]
  },
  {
   "cell_type": "code",
   "execution_count": 25,
   "id": "27382dc0",
   "metadata": {},
   "outputs": [
    {
     "name": "stdout",
     "output_type": "stream",
     "text": [
      "\n",
      "📝 Sentence: The YONEX ZR 100 Light Aluminium Strung Badminton Racket (Blue) is a solid choice for anyone starting their badminton journey. Designed specifically for beginners, this racket balances affordability, build quality, and ease of use.\n",
      "🎯 Predicted Sentiment: POSITIVE\n"
     ]
    }
   ],
   "source": [
    "new_sentence = input(\"Enter your line :\")\n",
    "\n",
    "# Clean it\n",
    "cleaned = clean_text(new_sentence)\n",
    "\n",
    "# Vectorize (use the SAME vectorizer from training)\n",
    "sentence_tfidf = vectorizer.transform([cleaned])  # Must be a list: [text]\n",
    "\n",
    "# Predict\n",
    "prediction = model_lr.predict(sentence_tfidf)[0]\n",
    "probability = model_lr.predict_proba(sentence_tfidf)[0] \n",
    "\n",
    "print(f\"\\n📝 Sentence: {new_sentence}\")\n",
    "print(f\"🎯 Predicted Sentiment: {prediction.upper()}\")"
   ]
  },
  {
   "cell_type": "code",
   "execution_count": 35,
   "id": "d769f511",
   "metadata": {},
   "outputs": [
    {
     "name": "stdout",
     "output_type": "stream",
     "text": [
      "\n",
      "📝 Sentence: Worst purchase ever. Broke within an hour.\n",
      "🎯 Predicted Sentiment: NEGATIVE\n"
     ]
    }
   ],
   "source": [
    "new_sentence = input(\"Enter your line :\")\n",
    "\n",
    "# Clean it\n",
    "cleaned = clean_text(new_sentence)\n",
    "\n",
    "# Vectorize (use the SAME vectorizer from training)\n",
    "sentence_tfidf = vectorizer.transform([cleaned])  # Must be a list: [text]\n",
    "\n",
    "# Predict\n",
    "prediction = model_dt.predict(sentence_tfidf)[0]\n",
    "probability = model_dt.predict_proba(sentence_tfidf)[0] \n",
    "\n",
    "print(f\"\\n📝 Sentence: {new_sentence}\")\n",
    "print(f\"🎯 Predicted Sentiment: {prediction.upper()}\")"
   ]
  },
  {
   "cell_type": "code",
   "execution_count": 26,
   "id": "ea9f2d8b",
   "metadata": {},
   "outputs": [
    {
     "name": "stdout",
     "output_type": "stream",
     "text": [
      "\n",
      "📝 Sentence: The YONEX ZR 100 Light Aluminium Strung Badminton Racket (Blue) is a solid choice for anyone starting their badminton journey. Designed specifically for beginners, this racket balances affordability, build quality, and ease of use.\n",
      "🎯 Predicted Sentiment: POSITIVE\n"
     ]
    }
   ],
   "source": [
    "new_sentence = input(\"Enter your line :\")\n",
    "\n",
    "# Clean it\n",
    "cleaned = clean_text(new_sentence)\n",
    "\n",
    "# Vectorize (use the SAME vectorizer from training)\n",
    "sentence_tfidf = vectorizer.transform([cleaned])  # Must be a list: [text]\n",
    "\n",
    "# Predict\n",
    "prediction = model_svm.predict(sentence_tfidf)[0]\n",
    "# probability = model_svm.predict_proba(sentence_tfidf)[0] \n",
    "\n",
    "print(f\"\\n📝 Sentence: {new_sentence}\")\n",
    "print(f\"🎯 Predicted Sentiment: {prediction.upper()}\")"
   ]
  },
  {
   "cell_type": "code",
   "execution_count": 27,
   "id": "cc4044ba",
   "metadata": {},
   "outputs": [
    {
     "data": {
      "text/html": [
       "<div>\n",
       "<style scoped>\n",
       "    .dataframe tbody tr th:only-of-type {\n",
       "        vertical-align: middle;\n",
       "    }\n",
       "\n",
       "    .dataframe tbody tr th {\n",
       "        vertical-align: top;\n",
       "    }\n",
       "\n",
       "    .dataframe thead th {\n",
       "        text-align: right;\n",
       "    }\n",
       "</style>\n",
       "<table border=\"1\" class=\"dataframe\">\n",
       "  <thead>\n",
       "    <tr style=\"text-align: right;\">\n",
       "      <th></th>\n",
       "      <th>Model</th>\n",
       "      <th>Score</th>\n",
       "    </tr>\n",
       "  </thead>\n",
       "  <tbody>\n",
       "    <tr>\n",
       "      <th>0</th>\n",
       "      <td>LogisticRegression</td>\n",
       "      <td>0.7895</td>\n",
       "    </tr>\n",
       "    <tr>\n",
       "      <th>1</th>\n",
       "      <td>RandomForestClassifier</td>\n",
       "      <td>0.9915</td>\n",
       "    </tr>\n",
       "    <tr>\n",
       "      <th>2</th>\n",
       "      <td>DecisionTreeClassifier</td>\n",
       "      <td>0.7490</td>\n",
       "    </tr>\n",
       "    <tr>\n",
       "      <th>3</th>\n",
       "      <td>SVC</td>\n",
       "      <td>0.7875</td>\n",
       "    </tr>\n",
       "    <tr>\n",
       "      <th>4</th>\n",
       "      <td>GradientBoostingClassifier</td>\n",
       "      <td>0.8420</td>\n",
       "    </tr>\n",
       "  </tbody>\n",
       "</table>\n",
       "</div>"
      ],
      "text/plain": [
       "                        Model   Score\n",
       "0          LogisticRegression  0.7895\n",
       "1      RandomForestClassifier  0.9915\n",
       "2      DecisionTreeClassifier  0.7490\n",
       "3                         SVC  0.7875\n",
       "4  GradientBoostingClassifier  0.8420"
      ]
     },
     "execution_count": 27,
     "metadata": {},
     "output_type": "execute_result"
    }
   ],
   "source": [
    "model = pd.DataFrame({'Model':['LogisticRegression','RandomForestClassifier','DecisionTreeClassifier','SVC','GradientBoostingClassifier'],\n",
    "                     'Score':[acc_lr,acc_rf,acc_dt,acc_svm,acc_GBC],\n",
    "                     })\n",
    "model"
   ]
  },
  {
   "cell_type": "code",
   "execution_count": 42,
   "id": "2cf36d46",
   "metadata": {},
   "outputs": [
    {
     "data": {
      "text/plain": [
       "['tfidf_vectorizer.pkl']"
      ]
     },
     "execution_count": 42,
     "metadata": {},
     "output_type": "execute_result"
    }
   ],
   "source": [
    "import joblib\n",
    "\n",
    "joblib.dump(model_lr,\"sentiment_model.pkl\")\n",
    "joblib.dump(vectorizer,\"tfidf_vectorizer.pkl\")"
   ]
  },
  {
   "cell_type": "code",
   "execution_count": null,
   "id": "27197d5b",
   "metadata": {},
   "outputs": [],
   "source": []
  }
 ],
 "metadata": {
  "kernelspec": {
   "display_name": ".venv",
   "language": "python",
   "name": "python3"
  },
  "language_info": {
   "codemirror_mode": {
    "name": "ipython",
    "version": 3
   },
   "file_extension": ".py",
   "mimetype": "text/x-python",
   "name": "python",
   "nbconvert_exporter": "python",
   "pygments_lexer": "ipython3",
   "version": "3.12.10"
  }
 },
 "nbformat": 4,
 "nbformat_minor": 5
}
